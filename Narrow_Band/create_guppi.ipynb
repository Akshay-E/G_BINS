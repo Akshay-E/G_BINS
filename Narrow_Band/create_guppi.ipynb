{
 "cells": [
  {
   "cell_type": "code",
   "execution_count": 1,
   "metadata": {},
   "outputs": [],
   "source": [
    "import os\n",
    "os.environ['SETIGEN_ENABLE_GPU'] = '1'\n",
    "os.environ['CUDA_VISIBLE_DEVICES'] = '2'\n"
   ]
  },
  {
   "cell_type": "code",
   "execution_count": 2,
   "metadata": {},
   "outputs": [
    {
     "name": "stderr",
     "output_type": "stream",
     "text": [
      "bshuf filter already loaded, skip it.\n",
      "zfp filter already loaded, skip it.\n"
     ]
    }
   ],
   "source": [
    "%matplotlib inline\n",
    "import matplotlib.pyplot as plt\n",
    "\n",
    "import numpy as np\n",
    "from astropy import units as u\n",
    "import blimpy as bl\n",
    "\n",
    "import setigen as stg"
   ]
  },
  {
   "cell_type": "markdown",
   "metadata": {},
   "source": [
    "Header\n",
    "Pulsar name        : B0740-28<br>\n",
    "Frequency Chan0    : 550 MHz<br>\n",
    "Bandwidth          : 25 MHz<br>\n",
    "Sideband           : USB<br>\n",
    "Number of channels : 2048<br>\n",
    "Sampling Interval  : 81.92 micro-second<br>\n",
    "Observation date   : 17:03:2021<br>\n",
    "Observation time   : 20:00:00.544647680<br>\n",
    "Pol1 raw voltage   : B0740-28_B4_25MHz_P1.rawvlt<br>\n",
    "Pol2 raw voltage   : B0740-28_B4_25MHz_P2.rawvlt<br>\n",
    "RAW VLT format     : [[real|imaginary] X NCHAN ] X ntimes<br>\n",
    "Data length        : 67 Mins<br>\n",
    "\n",
    "Total intensity    : B0740-28_B4_25MHz_PATI_8int.raw<br>\n",
    "input params       : gptool.in<br>\n",
    "rawvlt2power       : user script rawvlt_to_pa_beam.sh (calling rawvlt_to_pa_beam.c)<br>\n",
    "Profile            : B0740-28.pdf<br>"
   ]
  },
  {
   "cell_type": "markdown",
   "metadata": {},
   "source": [
    "# Create synthetic data with gaussian noise"
   ]
  },
  {
   "cell_type": "code",
   "execution_count": 8,
   "metadata": {},
   "outputs": [],
   "source": [
    "sample_rate = 1024e6 #taken as 2*BW\n",
    "num_taps = 8\n",
    "num_branches = 1024 \n",
    "\n",
    "chan_bw = sample_rate / num_branches\n"
   ]
  },
  {
   "cell_type": "code",
   "execution_count": 10,
   "metadata": {},
   "outputs": [
    {
     "data": {
      "text/plain": [
       "1.0"
      ]
     },
     "execution_count": 10,
     "metadata": {},
     "output_type": "execute_result"
    }
   ],
   "source": [
    "chan_bw/1e6"
   ]
  },
  {
   "cell_type": "code",
   "execution_count": 11,
   "metadata": {},
   "outputs": [],
   "source": [
    "antenna = stg.voltage.Antenna(sample_rate=sample_rate, \n",
    "                              fch1=550*u.MHz,\n",
    "                              ascending=True,\n",
    "                              num_pols=1)\n"
   ]
  },
  {
   "cell_type": "code",
   "execution_count": 12,
   "metadata": {},
   "outputs": [
    {
     "data": {
      "text/plain": [
       "1024.0"
      ]
     },
     "execution_count": 12,
     "metadata": {},
     "output_type": "execute_result"
    }
   ],
   "source": [
    "antenna.x.sample_rate/1e6"
   ]
  },
  {
   "cell_type": "code",
   "execution_count": 13,
   "metadata": {},
   "outputs": [],
   "source": [
    "antenna.x.add_noise(v_mean=0, \n",
    "                    v_std=1)"
   ]
  },
  {
   "cell_type": "code",
   "execution_count": 14,
   "metadata": {},
   "outputs": [],
   "source": [
    "digitizer = stg.voltage.RealQuantizer(target_fwhm=32,\n",
    "                                      num_bits=8)\n",
    "\n",
    "filterbank = stg.voltage.PolyphaseFilterbank(num_taps=num_taps, \n",
    "                                             num_branches=num_branches)\n",
    "\n",
    "requantizer = stg.voltage.ComplexQuantizer(target_fwhm=32,\n",
    "                                           num_bits=8)\n",
    "\n",
    "\n",
    "\n",
    "rvb = stg.voltage.RawVoltageBackend(antenna,\n",
    "                                    digitizer=digitizer,\n",
    "                                    filterbank=filterbank,\n",
    "                                    requantizer=requantizer,\n",
    "                                    start_chan=0,\n",
    "                                    num_chans=64,\n",
    "                                    block_size=134217728,\n",
    "                                    blocks_per_file=128,\n",
    "                                    num_subblocks=256)\n",
    "\n",
    "\n",
    "    \n",
    "\n",
    "\n"
   ]
  },
  {
   "cell_type": "markdown",
   "metadata": {},
   "source": [
    "return int(obs_length * abs(self.chan_bw) * self.num_antennas * self.num_chans * self.bytes_per_sample / self.block_size)"
   ]
  },
  {
   "cell_type": "code",
   "execution_count": 15,
   "metadata": {},
   "outputs": [
    {
     "data": {
      "text/plain": [
       "19"
      ]
     },
     "execution_count": 15,
     "metadata": {},
     "output_type": "execute_result"
    }
   ],
   "source": [
    "rvb.get_num_blocks(20)"
   ]
  },
  {
   "cell_type": "code",
   "execution_count": 20,
   "metadata": {},
   "outputs": [
    {
     "name": "stdout",
     "output_type": "stream",
     "text": [
      "1024000000.0\n",
      "1024.0\n",
      "1024\n",
      "1000000.0\n",
      "1e-06\n",
      "550.0\n",
      "final channel freq= 614.0\n"
     ]
    },
    {
     "data": {
      "text/plain": [
       "614"
      ]
     },
     "execution_count": 20,
     "metadata": {},
     "output_type": "execute_result"
    }
   ],
   "source": [
    "print(antenna.sample_rate)\n",
    "print(rvb.sample_rate/1e6)\n",
    "\n",
    "print(rvb.num_branches)\n",
    "print(rvb.chan_bw)\n",
    "print(rvb.tbin)\n",
    "print(rvb.fch1/1e6)\n",
    "print('final channel freq=',(rvb.fch1+chan_bw*rvb.num_chans)/1e6)"
   ]
  },
  {
   "cell_type": "code",
   "execution_count": 23,
   "metadata": {},
   "outputs": [
    {
     "name": "stderr",
     "output_type": "stream",
     "text": [
      "Blocks:   0%|                                                                                              | 0/2 [00:00<?, ?it/s]\n",
      "  0%|                                                                                                    | 0/256 [00:00<?, ?it/s]\u001b[A\n",
      "Subblocks:   0%|                                                                                         | 0/256 [00:00<?, ?it/s]\u001b[A\n",
      "Subblocks:   0%|▎                                                                                | 1/256 [00:00<00:27,  9.28it/s]\u001b[A\n",
      "Subblocks:   2%|█▉                                                                               | 6/256 [00:00<00:08, 29.79it/s]\u001b[A\n",
      "Subblocks:   4%|███▍                                                                            | 11/256 [00:00<00:06, 36.95it/s]\u001b[A\n",
      "Subblocks:   6%|█████                                                                           | 16/256 [00:00<00:05, 40.67it/s]\u001b[A\n",
      "Subblocks:   8%|██████▌                                                                         | 21/256 [00:00<00:05, 42.93it/s]\u001b[A\n",
      "Subblocks:  10%|████████▏                                                                       | 26/256 [00:00<00:05, 44.33it/s]\u001b[A\n",
      "Subblocks:  12%|█████████▋                                                                      | 31/256 [00:00<00:04, 45.23it/s]\u001b[A\n",
      "Subblocks:  14%|███████████▎                                                                    | 36/256 [00:00<00:05, 40.95it/s]\u001b[A\n",
      "Subblocks:  16%|████████████▊                                                                   | 41/256 [00:01<00:05, 42.80it/s]\u001b[A\n",
      "Subblocks:  18%|██████████████▍                                                                 | 46/256 [00:01<00:04, 44.01it/s]\u001b[A\n",
      "Subblocks:  20%|███████████████▉                                                                | 51/256 [00:01<00:04, 44.28it/s]\u001b[A\n",
      "Subblocks:  22%|█████████████████▌                                                              | 56/256 [00:01<00:04, 44.22it/s]\u001b[A\n",
      "Subblocks:  24%|███████████████████                                                             | 61/256 [00:01<00:04, 44.30it/s]\u001b[A\n",
      "Subblocks:  26%|████████████████████▋                                                           | 66/256 [00:01<00:04, 41.25it/s]\u001b[A\n",
      "Subblocks:  28%|██████████████████████▏                                                         | 71/256 [00:01<00:04, 42.51it/s]\u001b[A\n",
      "Subblocks:  30%|███████████████████████▊                                                        | 76/256 [00:01<00:04, 43.47it/s]\u001b[A\n",
      "Subblocks:  32%|█████████████████████████▎                                                      | 81/256 [00:01<00:03, 44.26it/s]\u001b[A\n",
      "Subblocks:  34%|██████████████████████████▉                                                     | 86/256 [00:02<00:03, 44.83it/s]\u001b[A\n",
      "Subblocks:  36%|████████████████████████████▍                                                   | 91/256 [00:02<00:03, 45.22it/s]\u001b[A\n",
      "Subblocks:  38%|██████████████████████████████                                                  | 96/256 [00:02<00:03, 45.54it/s]\u001b[A\n",
      "Subblocks:  39%|███████████████████████████████▏                                               | 101/256 [00:02<00:03, 42.46it/s]\u001b[A\n",
      "Subblocks:  41%|████████████████████████████████▋                                              | 106/256 [00:02<00:03, 43.64it/s]\u001b[A\n",
      "Subblocks:  43%|██████████████████████████████████▎                                            | 111/256 [00:02<00:03, 44.47it/s]\u001b[A\n",
      "Subblocks:  45%|███████████████████████████████████▊                                           | 116/256 [00:02<00:03, 44.95it/s]\u001b[A\n",
      "Subblocks:  47%|█████████████████████████████████████▎                                         | 121/256 [00:02<00:02, 45.24it/s]\u001b[A\n",
      "Subblocks:  49%|██████████████████████████████████████▉                                        | 126/256 [00:02<00:02, 45.69it/s]\u001b[A\n",
      "Subblocks:  51%|████████████████████████████████████████▍                                      | 131/256 [00:03<00:02, 42.75it/s]\u001b[A\n",
      "Subblocks:  53%|█████████████████████████████████████████▉                                     | 136/256 [00:03<00:02, 43.87it/s]\u001b[A\n",
      "Subblocks:  55%|███████████████████████████████████████████▌                                   | 141/256 [00:03<00:02, 44.70it/s]\u001b[A\n",
      "Subblocks:  57%|█████████████████████████████████████████████                                  | 146/256 [00:03<00:02, 45.29it/s]\u001b[A\n",
      "Subblocks:  59%|██████████████████████████████████████████████▌                                | 151/256 [00:03<00:02, 45.60it/s]\u001b[A\n",
      "Subblocks:  61%|████████████████████████████████████████████████▏                              | 156/256 [00:03<00:02, 44.91it/s]\u001b[A\n",
      "Subblocks:  63%|█████████████████████████████████████████████████▋                             | 161/256 [00:03<00:02, 41.90it/s]\u001b[A\n",
      "Subblocks:  65%|███████████████████████████████████████████████████▏                           | 166/256 [00:03<00:02, 43.02it/s]\u001b[A\n",
      "Subblocks:  67%|████████████████████████████████████████████████████▊                          | 171/256 [00:03<00:01, 44.19it/s]\u001b[A\n",
      "Subblocks:  69%|██████████████████████████████████████████████████████▎                        | 176/256 [00:04<00:01, 44.97it/s]\u001b[A\n",
      "Subblocks:  71%|███████████████████████████████████████████████████████▊                       | 181/256 [00:04<00:01, 45.41it/s]\u001b[A\n",
      "Subblocks:  73%|█████████████████████████████████████████████████████████▍                     | 186/256 [00:04<00:01, 45.74it/s]\u001b[A\n",
      "Subblocks:  75%|██████████████████████████████████████████████████████████▉                    | 191/256 [00:04<00:01, 45.84it/s]\u001b[A\n",
      "Subblocks:  77%|████████████████████████████████████████████████████████████▍                  | 196/256 [00:04<00:01, 42.79it/s]\u001b[A\n",
      "Subblocks:  79%|██████████████████████████████████████████████████████████████                 | 201/256 [00:04<00:01, 43.71it/s]\u001b[A\n",
      "Subblocks:  80%|███████████████████████████████████████████████████████████████▌               | 206/256 [00:04<00:01, 44.41it/s]\u001b[A\n",
      "Subblocks:  82%|█████████████████████████████████████████████████████████████████              | 211/256 [00:04<00:00, 45.03it/s]\u001b[A\n",
      "Subblocks:  84%|██████████████████████████████████████████████████████████████████▋            | 216/256 [00:04<00:00, 45.55it/s]\u001b[A\n",
      "Subblocks:  86%|████████████████████████████████████████████████████████████████████▏          | 221/256 [00:05<00:00, 45.69it/s]\u001b[A\n",
      "Subblocks:  88%|█████████████████████████████████████████████████████████████████████▋         | 226/256 [00:05<00:00, 45.82it/s]\u001b[A\n",
      "Subblocks:  90%|███████████████████████████████████████████████████████████████████████▎       | 231/256 [00:05<00:00, 45.80it/s]\u001b[A\n",
      "Subblocks:  92%|████████████████████████████████████████████████████████████████████████▊      | 236/256 [00:05<00:00, 45.54it/s]\u001b[A\n",
      "Subblocks:  94%|██████████████████████████████████████████████████████████████████████████▎    | 241/256 [00:05<00:00, 45.87it/s]\u001b[A\n",
      "Subblocks:  96%|███████████████████████████████████████████████████████████████████████████▉   | 246/256 [00:05<00:00, 45.93it/s]\u001b[A\n",
      "Subblocks:  98%|█████████████████████████████████████████████████████████████████████████████▍ | 251/256 [00:05<00:00, 46.14it/s]\u001b[A\n",
      "Subblocks: 100%|███████████████████████████████████████████████████████████████████████████████| 256/256 [00:05<00:00, 45.97it/s]\u001b[A\n",
      "Blocks:  50%|███████████████████████████████████████████                                           | 1/2 [00:06<00:06,  6.18s/it]\u001b[A\n",
      "  0%|                                                                                                    | 0/256 [00:00<?, ?it/s]\u001b[A\n",
      "Subblocks:   0%|                                                                                         | 0/256 [00:00<?, ?it/s]\u001b[A\n",
      "Subblocks:   1%|▋                                                                                | 2/256 [00:00<00:12, 19.58it/s]\u001b[A\n",
      "Subblocks:   3%|██▏                                                                              | 7/256 [00:00<00:07, 34.80it/s]\u001b[A\n",
      "Subblocks:   5%|███▊                                                                            | 12/256 [00:00<00:06, 38.70it/s]\u001b[A\n",
      "Subblocks:   7%|█████▎                                                                          | 17/256 [00:00<00:05, 41.56it/s]\u001b[A\n",
      "Subblocks:   9%|██████▉                                                                         | 22/256 [00:00<00:05, 43.32it/s]\u001b[A\n",
      "Subblocks:  11%|████████▍                                                                       | 27/256 [00:00<00:05, 44.05it/s]\u001b[A\n",
      "Subblocks:  12%|██████████                                                                      | 32/256 [00:00<00:04, 45.02it/s]\u001b[A\n",
      "Subblocks:  14%|███████████▌                                                                    | 37/256 [00:00<00:05, 42.17it/s]\u001b[A\n",
      "Subblocks:  16%|█████████████▏                                                                  | 42/256 [00:01<00:04, 43.49it/s]\u001b[A\n",
      "Subblocks:  18%|██████████████▋                                                                 | 47/256 [00:01<00:04, 44.54it/s]\u001b[A\n",
      "Subblocks:  20%|████████████████▎                                                               | 52/256 [00:01<00:04, 45.37it/s]\u001b[A\n",
      "Subblocks:  22%|█████████████████▊                                                              | 57/256 [00:01<00:04, 46.01it/s]\u001b[A\n",
      "Subblocks:  24%|███████████████████▍                                                            | 62/256 [00:01<00:04, 45.67it/s]\u001b[A\n",
      "Subblocks:  26%|████████████████████▉                                                           | 67/256 [00:01<00:04, 42.27it/s]\u001b[A\n",
      "Subblocks:  28%|██████████████████████▌                                                         | 72/256 [00:01<00:04, 43.18it/s]\u001b[A\n",
      "Subblocks:  30%|████████████████████████                                                        | 77/256 [00:01<00:04, 43.91it/s]\u001b[A\n",
      "Subblocks:  32%|█████████████████████████▋                                                      | 82/256 [00:01<00:03, 44.07it/s]\u001b[A\n",
      "Subblocks:  34%|███████████████████████████▏                                                    | 87/256 [00:02<00:03, 44.80it/s]\u001b[A\n",
      "Subblocks:  36%|████████████████████████████▊                                                   | 92/256 [00:02<00:03, 45.36it/s]\u001b[A\n",
      "Subblocks:  38%|██████████████████████████████▎                                                 | 97/256 [00:02<00:03, 42.44it/s]\u001b[A\n",
      "Subblocks:  40%|███████████████████████████████▍                                               | 102/256 [00:02<00:03, 43.60it/s]\u001b[A\n",
      "Subblocks:  42%|█████████████████████████████████                                              | 107/256 [00:02<00:03, 44.48it/s]\u001b[A\n",
      "Subblocks:  44%|██████████████████████████████████▌                                            | 112/256 [00:02<00:03, 45.07it/s]\u001b[A\n",
      "Subblocks:  46%|████████████████████████████████████                                           | 117/256 [00:02<00:03, 45.60it/s]\u001b[A\n",
      "Subblocks:  48%|█████████████████████████████████████▋                                         | 122/256 [00:02<00:02, 45.99it/s]\u001b[A\n",
      "Subblocks:  50%|███████████████████████████████████████▏                                       | 127/256 [00:02<00:02, 45.59it/s]\u001b[A\n",
      "Subblocks:  52%|████████████████████████████████████████▋                                      | 132/256 [00:03<00:02, 42.34it/s]\u001b[A\n",
      "Subblocks:  54%|██████████████████████████████████████████▎                                    | 137/256 [00:03<00:02, 43.46it/s]\u001b[A\n",
      "Subblocks:  55%|███████████████████████████████████████████▊                                   | 142/256 [00:03<00:02, 44.13it/s]\u001b[A\n",
      "Subblocks:  57%|█████████████████████████████████████████████▎                                 | 147/256 [00:03<00:02, 44.51it/s]\u001b[A\n",
      "Subblocks:  59%|██████████████████████████████████████████████▉                                | 152/256 [00:03<00:02, 44.69it/s]\u001b[A\n",
      "Subblocks:  61%|████████████████████████████████████████████████▍                              | 157/256 [00:03<00:02, 45.00it/s]\u001b[A\n",
      "Subblocks:  63%|█████████████████████████████████████████████████▉                             | 162/256 [00:03<00:02, 41.55it/s]\u001b[A\n",
      "Subblocks:  65%|███████████████████████████████████████████████████▌                           | 167/256 [00:03<00:02, 42.71it/s]\u001b[A\n",
      "Subblocks:  67%|█████████████████████████████████████████████████████                          | 172/256 [00:03<00:01, 43.46it/s]\u001b[A\n",
      "Subblocks:  69%|██████████████████████████████████████████████████████▌                        | 177/256 [00:04<00:01, 43.96it/s]\u001b[A\n",
      "Subblocks:  71%|████████████████████████████████████████████████████████▏                      | 182/256 [00:04<00:01, 44.34it/s]\u001b[A\n",
      "Subblocks:  73%|█████████████████████████████████████████████████████████▋                     | 187/256 [00:04<00:01, 44.32it/s]\u001b[A\n",
      "Subblocks:  75%|███████████████████████████████████████████████████████████▎                   | 192/256 [00:04<00:01, 44.72it/s]\u001b[A\n",
      "Subblocks:  77%|████████████████████████████████████████████████████████████▊                  | 197/256 [00:04<00:01, 41.00it/s]\u001b[A\n",
      "Subblocks:  79%|██████████████████████████████████████████████████████████████▎                | 202/256 [00:04<00:01, 35.85it/s]\u001b[A\n",
      "Subblocks:  80%|███████████████████████████████████████████████████████████████▌               | 206/256 [00:04<00:01, 30.31it/s]\u001b[A\n",
      "Subblocks:  82%|████████████████████████████████████████████████████████████████▊              | 210/256 [00:05<00:01, 28.99it/s]\u001b[A\n",
      "Subblocks:  84%|██████████████████████████████████████████████████████████████████             | 214/256 [00:05<00:01, 26.35it/s]\u001b[A\n",
      "Subblocks:  85%|██████████████████████████████████████████████████████████████████▉            | 217/256 [00:05<00:01, 26.46it/s]\u001b[A\n",
      "Subblocks:  87%|████████████████████████████████████████████████████████████████████▌          | 222/256 [00:05<00:01, 31.22it/s]\u001b[A\n",
      "Subblocks:  89%|██████████████████████████████████████████████████████████████████████         | 227/256 [00:05<00:00, 35.08it/s]\u001b[A\n",
      "Subblocks:  91%|███████████████████████████████████████████████████████████████████████▌       | 232/256 [00:05<00:00, 38.20it/s]\u001b[A\n",
      "Subblocks:  93%|█████████████████████████████████████████████████████████████████████████▏     | 237/256 [00:05<00:00, 40.69it/s]\u001b[A\n",
      "Subblocks:  95%|██████████████████████████████████████████████████████████████████████████▋    | 242/256 [00:05<00:00, 42.44it/s]\u001b[A\n",
      "Subblocks:  96%|████████████████████████████████████████████████████████████████████████████▏  | 247/256 [00:06<00:00, 43.68it/s]\u001b[A\n",
      "Subblocks:  98%|█████████████████████████████████████████████████████████████████████████████▊ | 252/256 [00:06<00:00, 44.68it/s]\u001b[A\n",
      "Blocks: 100%|██████████████████████████████████████████████████████████████████████████████████████| 2/2 [00:15<00:00,  7.80s/it]\u001b[A\n"
     ]
    }
   ],
   "source": [
    "rvb.record(output_file_stem='/home/eakshay/setigen/data/guppi_with_chanbw_1mhz',\n",
    "           num_blocks=2, \n",
    "           length_mode='num_blocks',\n",
    "           header_dict={'TELESCOP': 'GBT'},\n",
    "           verbose=False)\n"
   ]
  },
  {
   "cell_type": "code",
   "execution_count": null,
   "metadata": {},
   "outputs": [],
   "source": [
    "#!rawspec -f 1024 -t 4 -d . example_snr"
   ]
  },
  {
   "cell_type": "code",
   "execution_count": 24,
   "metadata": {},
   "outputs": [],
   "source": [
    "start_chan = 0\n",
    "input_file_stem = '/home/eakshay/setigen/data/guppi_with_chanbw_1mhz'\n",
    "\n",
    "raw_params = stg.voltage.get_raw_params(input_file_stem=input_file_stem,\n",
    "                                        start_chan=start_chan)"
   ]
  },
  {
   "cell_type": "code",
   "execution_count": 25,
   "metadata": {},
   "outputs": [
    {
     "data": {
      "text/plain": [
       "{'num_bits': 8,\n",
       " 'chan_bw': 1000000.0,\n",
       " 'ascending': True,\n",
       " 'num_pols': 1,\n",
       " 'block_size': 134217728,\n",
       " 'obs_length': 2.097152,\n",
       " 'tbin': 1e-06,\n",
       " 'num_antennas': 1,\n",
       " 'num_chans': 64,\n",
       " 'center_freq': 581500000.0,\n",
       " 'fch1': 550000000.0}"
      ]
     },
     "execution_count": 25,
     "metadata": {},
     "output_type": "execute_result"
    }
   ],
   "source": [
    "raw_params"
   ]
  },
  {
   "cell_type": "code",
   "execution_count": 59,
   "metadata": {},
   "outputs": [
    {
     "data": {
      "text/plain": [
       "551.5380859375"
      ]
     },
     "execution_count": 59,
     "metadata": {},
     "output_type": "execute_result"
    }
   ],
   "source": [
    "551538085.9375/1e6"
   ]
  }
 ],
 "metadata": {
  "kernelspec": {
   "display_name": "find_ET",
   "language": "python",
   "name": "find_et"
  },
  "language_info": {
   "codemirror_mode": {
    "name": "ipython",
    "version": 3
   },
   "file_extension": ".py",
   "mimetype": "text/x-python",
   "name": "python",
   "nbconvert_exporter": "python",
   "pygments_lexer": "ipython3",
   "version": "3.7.11"
  }
 },
 "nbformat": 4,
 "nbformat_minor": 4
}
